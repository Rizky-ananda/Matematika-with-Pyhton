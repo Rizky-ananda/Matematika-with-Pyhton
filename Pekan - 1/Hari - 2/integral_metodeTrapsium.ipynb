{
 "cells": [
  {
   "cell_type": "code",
   "execution_count": 8,
   "metadata": {},
   "outputs": [],
   "source": [
    "# import library yang digunakan\n",
    "import numpy as np\n",
    "import matplotlib.pyplot as plt\n"
   ]
  },
  {
   "cell_type": "code",
   "execution_count": null,
   "metadata": {},
   "outputs": [],
   "source": [
    "# definisikan fungsi, f(x) = x^2\n",
    "def f(x):\n",
    "    return x**2\n",
    "\n",
    "# definisikan fungsi hitung\n",
    "def trapezoidal_rule(a,b,n):\n",
    "    h = (b - a) / n  # Panjang tiap segmen\n",
    "    x = np.linspace(a, b, n+1)  # Titik partisi\n",
    "    y = f(x)  # Evaluasi fungsi di titik-titik partisi\n",
    "    # # Cetak Nilai x dan r(x)\n",
    "    print(\"\\nTabel Nilai x dan r(x):\")\n",
    "    print(\"x\\t r(x)\")\n",
    "    print(\"-\" * 25)\n",
    "    for xi in x:\n",
    "        print(f\"{xi:.4f}\\t {f(xi):.4f}\")\n",
    "    integral = (h/2) * (y[0] + 2 * sum(y[1:-1]) + y[-1])  \n",
    "    return integral"
   ]
  },
  {
   "cell_type": "code",
   "execution_count": 12,
   "metadata": {},
   "outputs": [
    {
     "name": "stdout",
     "output_type": "stream",
     "text": [
      "\n",
      "Tabel Nilai x dan r(x):\n",
      "x\t r(x)\n",
      "-------------------------\n",
      "0.0000\t 0.0000\n",
      "0.2500\t 0.0625\n",
      "0.5000\t 0.2500\n",
      "0.7500\t 0.5625\n",
      "1.0000\t 1.0000\n"
     ]
    },
    {
     "data": {
      "text/plain": [
       "0.34375"
      ]
     },
     "execution_count": 12,
     "metadata": {},
     "output_type": "execute_result"
    }
   ],
   "source": [
    "#   contoh penyelesaian\n",
    "a,b,n = 0,1,4  #a=batas bawah, b=batas atas,n=banyak iterasi\n",
    "hasil_perhitungan = trapezoidal_rule(a,b,n)\n",
    "hasil_perhitungan"
   ]
  },
  {
   "cell_type": "code",
   "execution_count": 55,
   "metadata": {},
   "outputs": [
    {
     "data": {
      "text/plain": [
       "0.33375000000000005"
      ]
     },
     "execution_count": 55,
     "metadata": {},
     "output_type": "execute_result"
    }
   ],
   "source": [
    "a,b,n = 0,1,20\n",
    "hasil_perhitungan = trapezoidal_rule(a,b,n)\n",
    "hasil_perhitungan"
   ]
  },
  {
   "cell_type": "code",
   "execution_count": 13,
   "metadata": {},
   "outputs": [],
   "source": [
    "def f(x):\n",
    "    return np.exp(-x**2)\n",
    "\n",
    "def trapezoidal_rule(a,b,n):\n",
    "    h = (b - a) / n\n",
    "    x = np.linspace(a, b, n+1)\n",
    "    y = f(x)\n",
    "\n",
    "    # Cetak Nilai x dan r(x)\n",
    "    print(\"\\nTabel Nilai x dan r(x):\")\n",
    "    print(\"x\\t r(x)\")\n",
    "    print(\"-\" * 25)\n",
    "    for xi in x:\n",
    "        print(f\"{xi:.4f}\\t {f(xi):.4f}\")\n",
    "    \n",
    "    integral = (h / 2) * (y[0] + 2 * np.sum(y[1:-1]) + y[-1])\n",
    "    return integral\n"
   ]
  },
  {
   "cell_type": "code",
   "execution_count": 14,
   "metadata": {},
   "outputs": [
    {
     "name": "stdout",
     "output_type": "stream",
     "text": [
      "\n",
      "Tabel Nilai x dan r(x):\n",
      "x\t r(x)\n",
      "-------------------------\n",
      "0.0000\t 1.0000\n",
      "0.2500\t 0.9394\n",
      "0.5000\t 0.7788\n",
      "0.7500\t 0.5698\n",
      "1.0000\t 0.3679\n",
      "Hasil integral: 0.742984\n"
     ]
    }
   ],
   "source": [
    "a,b,n = 0,1,4  #a=batas bawah, b=batas atas,n=banyak iterasi\n",
    "print(f\"Hasil integral: {trapezoidal_rule(a, b, n):.6f}\")"
   ]
  },
  {
   "cell_type": "code",
   "execution_count": 58,
   "metadata": {},
   "outputs": [
    {
     "name": "stdout",
     "output_type": "stream",
     "text": [
      "Hasil integral: 0.746671\n"
     ]
    }
   ],
   "source": [
    "a,b,n = 0,1,20  #a=batas bawah, b=batas atas,n=banyak iterasi\n",
    "print(f\"Hasil integral: {trapezoidal_rule(a, b, n):.6f}\")"
   ]
  },
  {
   "cell_type": "code",
   "execution_count": 15,
   "metadata": {},
   "outputs": [],
   "source": [
    "def f(x):\n",
    "    return x**2\n",
    "\n",
    "def simpson_rule(a,b,n):\n",
    "    if n%2 == 1:\n",
    "        n+1\n",
    "    h = (b-a)/n\n",
    "    x = np.linspace(a,b,n+1)\n",
    "    y = f(x)\n",
    "\n",
    "    # Cetak Nilai x dan r(x)\n",
    "    print(\"\\nTabel Nilai x dan r(x):\")\n",
    "    print(\"x\\t r(x)\")\n",
    "    print(\"-\" * 25)\n",
    "    for xi in x:\n",
    "        print(f\"{xi:.4f}\\t {f(xi):.4f}\")\n",
    "        \n",
    "    integral = (h/3)*(y[0] + 4 *sum(y[1:-1:2]) + 2 *sum(y[2:-2:2]) + y[-1])\n",
    "    return integral"
   ]
  },
  {
   "cell_type": "code",
   "execution_count": 16,
   "metadata": {},
   "outputs": [
    {
     "name": "stdout",
     "output_type": "stream",
     "text": [
      "\n",
      "Tabel Nilai x dan r(x):\n",
      "x\t r(x)\n",
      "-------------------------\n",
      "0.0000\t 0.0000\n",
      "0.2500\t 0.0625\n",
      "0.5000\t 0.2500\n",
      "0.7500\t 0.5625\n",
      "1.0000\t 1.0000\n"
     ]
    },
    {
     "data": {
      "text/plain": [
       "0.3333333333333333"
      ]
     },
     "execution_count": 16,
     "metadata": {},
     "output_type": "execute_result"
    }
   ],
   "source": [
    "a,b,n = 0,1,4\n",
    "hasil_perhitungan = simpson_rule(a,b,n)\n",
    "hasil_perhitungan"
   ]
  },
  {
   "cell_type": "code",
   "execution_count": 17,
   "metadata": {},
   "outputs": [],
   "source": [
    "def f(x):\n",
    "    return np.exp(-x**2)\n",
    "\n",
    "def simpson_rule(a,b,n):\n",
    "    if n%2 == 1:\n",
    "        n+1\n",
    "    h = (b-a)/n\n",
    "    x = np.linspace(a,b,n+1)\n",
    "    y = f(x)\n",
    "\n",
    "    # Cetak Nilai x dan r(x)\n",
    "    print(\"\\nTabel Nilai x dan r(x):\")\n",
    "    print(\"x\\t r(x)\")\n",
    "    print(\"-\" * 25)\n",
    "    for xi in x:\n",
    "        print(f\"{xi:.4f}\\t {f(xi):.4f}\")\n",
    "        \n",
    "    integral = (h/3)*(y[0] + 4 *sum(y[1:-1:2]) + 2 *sum(y[2:-2:2]) + y[-1])\n",
    "    return integral"
   ]
  },
  {
   "cell_type": "code",
   "execution_count": 18,
   "metadata": {},
   "outputs": [
    {
     "name": "stdout",
     "output_type": "stream",
     "text": [
      "\n",
      "Tabel Nilai x dan r(x):\n",
      "x\t r(x)\n",
      "-------------------------\n",
      "0.0000\t 1.0000\n",
      "0.2500\t 0.9394\n",
      "0.5000\t 0.7788\n",
      "0.7500\t 0.5698\n",
      "1.0000\t 0.3679\n"
     ]
    },
    {
     "data": {
      "text/plain": [
       "0.7468553797909873"
      ]
     },
     "execution_count": 18,
     "metadata": {},
     "output_type": "execute_result"
    }
   ],
   "source": [
    "a,b,n = 0,1,4\n",
    "hasil_perhitungan = simpson_rule(a,b,n)\n",
    "hasil_perhitungan"
   ]
  },
  {
   "cell_type": "code",
   "execution_count": 70,
   "metadata": {},
   "outputs": [
    {
     "data": {
      "image/png": "[encoded data removed]",
      "text/plain": [
       "<Figure size 1200x500 with 2 Axes>"
      ]
     },
     "metadata": {},
     "output_type": "display_data"
    }
   ],
   "source": [
    "# Fungsi yang akan diintegrasikan\n",
    "def f(x):\n",
    "    # return np.exp(-x**2)\n",
    "    return x**2\n",
    "\n",
    "\n",
    "# Batas integral\n",
    "a, b = 0, 1\n",
    "n = 4  # Jumlah segmen (harus genap untuk Simpson)\n",
    "\n",
    "# Buat titik-titik x dan y\n",
    "x_vals = np.linspace(a, b, 100)  # Untuk plot kurva asli\n",
    "y_vals = f(x_vals)\n",
    "\n",
    "# Buat titik-titik diskret untuk Trapesium & Simpson\n",
    "x_points = np.linspace(a, b, n + 1)\n",
    "y_points = f(x_points)\n",
    "h = (b - a) / n  # Lebar tiap segmen\n",
    "\n",
    "# 🔸 Plot metode Trapesium\n",
    "fig, ax = plt.subplots(1, 2, figsize=(12, 5))\n",
    "\n",
    "\n",
    "ax[0].plot(x_vals, y_vals, 'b', label=\"Fungsi Asli\")  # Kurva asli\n",
    "ax[0].fill_between(x_points, y_points, alpha=0.3, color='orange', label=\"Trapesium\")\n",
    "ax[0].plot(x_points, y_points, 'ro--')  # Titik-titik metode\n",
    "ax[0].set_title(\"Metode Trapesium\")\n",
    "ax[0].legend()\n",
    "\n",
    "# 🔹 Plot metode Simpson\n",
    "x_mid = (x_points[:-1] + x_points[1:]) / 2  # Titik tengah Simpson\n",
    "y_mid = f(x_mid)\n",
    "\n",
    "ax[1].plot(x_vals, y_vals, 'b', label=\"Fungsi Asli\")  # Kurva asli\n",
    "ax[1].fill_between(x_points, y_points, alpha=0.3, color='green', label=\"Simpson\")\n",
    "ax[1].scatter(x_mid, y_mid, color='red', marker='x', label=\"Titik Tengah Simpson\")  # Titik tengah\n",
    "ax[1].plot(x_points, y_points, 'ro--')  # Titik-titik metode\n",
    "ax[1].set_title(\"Metode Simpson\")\n",
    "ax[1].legend()\n",
    "\n",
    "plt.show()"
   ]
  }
 ],
 "metadata": {
  "kernelspec": {
   "display_name": "Python 3",
   "language": "python",
   "name": "python3"
  },
  "language_info": {
   "codemirror_mode": {
    "name": "ipython",
    "version": 3
   },
   "file_extension": ".py",
   "mimetype": "text/x-python",
   "name": "python",
   "nbconvert_exporter": "python",
   "pygments_lexer": "ipython3",
   "version": "3.12.3"
  }
 },
 "nbformat": 4,
 "nbformat_minor": 2
}
