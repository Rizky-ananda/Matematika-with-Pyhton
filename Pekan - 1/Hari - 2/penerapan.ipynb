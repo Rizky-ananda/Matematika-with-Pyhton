{
 "cells": [
  {
   "cell_type": "code",
   "execution_count": 3,
   "metadata": {},
   "outputs": [],
   "source": [
    "import numpy as np\n"
   ]
  },
  {
   "cell_type": "code",
   "execution_count": 14,
   "metadata": {},
   "outputs": [],
   "source": [
    "# fungsi jari jari pipa, r(x) = 2+0,5sin(x)\n",
    "def r(x):\n",
    "    return 2+0.5*np.sin(x)\n",
    "\n",
    "# fungsi luas penampang lingkaran, A(x) =   phi*r(x)^2\n",
    "def area(x):\n",
    "    return np.pi*r(x)**2\n",
    "\n",
    "def trapezoidal_rule(f,a,b,n):\n",
    "    h = (b - a) / n  # Panjang tiap segmen\n",
    "    x = np.linspace(a, b, n+1)  # Titik partisi\n",
    "    fx = f(x)  # Evaluasi fungsi di titik-titik partisi\n",
    "    # Cetak Nilai x dan r(x)\n",
    "    print(\"\\nTabel Nilai x dan r(x):\")\n",
    "    print(\"x\\t r(x)\")\n",
    "    print(\"-\" * 25)\n",
    "    for xi in x:\n",
    "        print(f\"{xi:.4f}\\t {r(xi):.4f}\")\n",
    "\n",
    "    integral = fx[0] + fx[-1] + 2 *sum(fx[1:-1])\n",
    "    return  h/2*integral  \n"
   ]
  },
  {
   "cell_type": "code",
   "execution_count": 18,
   "metadata": {},
   "outputs": [
    {
     "name": "stdout",
     "output_type": "stream",
     "text": [
      "\n",
      "Tabel Nilai x dan r(x):\n",
      "x\t r(x)\n",
      "-------------------------\n",
      "0.0000\t 2.0000\n",
      "2.5000\t 2.2992\n",
      "5.0000\t 1.5205\n",
      "7.5000\t 2.4690\n",
      "10.0000\t 1.7280\n",
      "\n",
      "volume pipa dari x = 0 sampai 10 adalah kisaran 134.9900 sat volum\n"
     ]
    }
   ],
   "source": [
    "# hitung volume\n",
    "a,b = 0,10\n",
    "n = 4\n",
    "volume = trapezoidal_rule(area,a,b,n)\n",
    "print(f\"\\nvolume pipa dari x = {a} sampai {b} adalah kisaran {volume:.4f} sat volum\")"
   ]
  }
 ],
 "metadata": {
  "kernelspec": {
   "display_name": "Python 3",
   "language": "python",
   "name": "python3"
  },
  "language_info": {
   "codemirror_mode": {
    "name": "ipython",
    "version": 3
   },
   "file_extension": ".py",
   "mimetype": "text/x-python",
   "name": "python",
   "nbconvert_exporter": "python",
   "pygments_lexer": "ipython3",
   "version": "3.12.3"
  }
 },
 "nbformat": 4,
 "nbformat_minor": 2
}
