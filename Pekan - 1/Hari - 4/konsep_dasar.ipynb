{
 "cells": [
  {
   "cell_type": "code",
   "execution_count": null,
   "id": "8a3c0e75",
   "metadata": {},
   "outputs": [],
   "source": [
    "# sebuah mobil melaju dijalan tol, dan posisi mobil terhadap waktu dapat dinyatakan dalam sebuah persamaan\n",
    "# s(t) = 4t^3 - 3t^2 + 2t\n",
    "# dimana s(t) dalam meter, dan t dalam detik\n",
    "# Berapa kecepatan mobil pada detik ke-2?\n",
    "# Berapa percepatan mobil pada detik ke-2?\n",
    "# sebarap jauh mobil sudah melaju pada detik tersebut\n"
   ]
  },
  {
   "cell_type": "code",
   "execution_count": 1,
   "id": "823a9a70",
   "metadata": {},
   "outputs": [],
   "source": [
    "import sympy as sy"
   ]
  },
  {
   "cell_type": "code",
   "execution_count": 2,
   "id": "862e6d63",
   "metadata": {},
   "outputs": [
    {
     "data": {
      "text/latex": [
       "$\\displaystyle 4 t^{3} - 3 t^{2} + 2 t$"
      ],
      "text/plain": [
       "4*t**3 - 3*t**2 + 2*t"
      ]
     },
     "execution_count": 2,
     "metadata": {},
     "output_type": "execute_result"
    }
   ],
   "source": [
    "t = sy.symbols(\"t\")\n",
    "\n",
    "persamaan = 4*t**3 - 3*t**2 + 2*t\n",
    "persamaan"
   ]
  },
  {
   "cell_type": "code",
   "execution_count": null,
   "id": "6f0fd220",
   "metadata": {},
   "outputs": [
    {
     "data": {
      "text/latex": [
       "$\\displaystyle 12 t^{2} - 6 t + 2$"
      ],
      "text/plain": [
       "12*t**2 - 6*t + 2"
      ]
     },
     "execution_count": 4,
     "metadata": {},
     "output_type": "execute_result"
    }
   ],
   "source": [
    "# turunan pertama\n",
    "turunan_1 = sy.diff(persamaan,t)\n",
    "turunan_1 # persamaan ini akan digunakan mencari kecepatan mobil"
   ]
  },
  {
   "cell_type": "code",
   "execution_count": null,
   "id": "4d82219d",
   "metadata": {},
   "outputs": [
    {
     "data": {
      "text/latex": [
       "$\\displaystyle 6 \\left(4 t - 1\\right)$"
      ],
      "text/plain": [
       "6*(4*t - 1)"
      ]
     },
     "execution_count": 5,
     "metadata": {},
     "output_type": "execute_result"
    }
   ],
   "source": [
    "# turunan kedua\n",
    "turunan_2 = sy.diff(persamaan,t,2)\n",
    "turunan_2 # persamaan ini akan digunakan dalam mencari percepatan mobil"
   ]
  },
  {
   "cell_type": "code",
   "execution_count": 29,
   "id": "87935c23",
   "metadata": {},
   "outputs": [],
   "source": [
    "# berapa kecepatan dan percepatan mobil di detik ke 2\n",
    "var = 4 #variabel yang digunakan\n",
    "kecepatan = turunan_1.subs(t,var)\n",
    "percepatan = turunan_2.subs(t,var)"
   ]
  },
  {
   "cell_type": "code",
   "execution_count": 30,
   "id": "8c02dcab",
   "metadata": {},
   "outputs": [
    {
     "name": "stdout",
     "output_type": "stream",
     "text": [
      "kecepatan mobil pada detik kedua adalah = 170 m/s\n",
      "percepatan mobil pada detik kedua adalah = 90 m/s^2\n"
     ]
    }
   ],
   "source": [
    "print(f\"kecepatan mobil pada detik kedua adalah = {kecepatan} m/s\")\n",
    "print(f\"percepatan mobil pada detik kedua adalah = {percepatan} m/s^2\")"
   ]
  },
  {
   "cell_type": "code",
   "execution_count": 31,
   "id": "524f6fb6",
   "metadata": {},
   "outputs": [
    {
     "name": "stdout",
     "output_type": "stream",
     "text": [
      "kecepatan: 170 m/s = 612.00 km/jam\n"
     ]
    }
   ],
   "source": [
    "# konversi dari m/s ke km/jam\n",
    "def konversi(var):\n",
    "    return var*3.6\n",
    "\n",
    "v_mps = kecepatan\n",
    "v_kmph = konversi(v_mps)\n",
    "\n",
    "print(f\"kecepatan: {v_mps} m/s = {v_kmph:.2f} km/jam\")\n",
    "\n"
   ]
  },
  {
   "cell_type": "code",
   "execution_count": null,
   "id": "890bc9f4",
   "metadata": {},
   "outputs": [
    {
     "name": "stdout",
     "output_type": "stream",
     "text": [
      "Jarak mobil ketika detik ke - 4 adalah 216 m, atau 27/125 km\n"
     ]
    }
   ],
   "source": [
    "# mengetahui mobil sudah melaju seberapa jauh\n",
    "jarak = persamaan.subs(t,var)\n",
    "jarak_km = jarak/1000\n",
    "print(f\"Jarak mobil ketika detik ke - {var} adalah {jarak} m\") "
   ]
  }
 ],
 "metadata": {
  "kernelspec": {
   "display_name": "Python 3",
   "language": "python",
   "name": "python3"
  },
  "language_info": {
   "codemirror_mode": {
    "name": "ipython",
    "version": 3
   },
   "file_extension": ".py",
   "mimetype": "text/x-python",
   "name": "python",
   "nbconvert_exporter": "python",
   "pygments_lexer": "ipython3",
   "version": "3.12.3"
  }
 },
 "nbformat": 4,
 "nbformat_minor": 5
}
