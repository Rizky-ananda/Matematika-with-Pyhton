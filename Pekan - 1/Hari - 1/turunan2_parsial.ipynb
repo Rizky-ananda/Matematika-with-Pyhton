{
 "cells": [
  {
   "cell_type": "code",
   "execution_count": 1,
   "metadata": {},
   "outputs": [],
   "source": [
    "# Library yang digunakan \n",
    "import sympy as sy # untuk penyelesaian secara simbolik\n",
    "import numpy as np # untuk penyelesaian secara numerik\n",
    "import matplotlib.pyplot as plt # untuk visualiasi data\n",
    "from scipy.misc import derivative  # Untuk turunan numerik\n",
    "from scipy.integrate import odeint  # Untuk solusi persamaan diferensial\n"
   ]
  },
  {
   "cell_type": "code",
   "execution_count": null,
   "metadata": {},
   "outputs": [
    {
     "data": {
      "text/latex": [
       "$\\displaystyle x^{2} y + 3 x y^{2} + y^{3}$"
      ],
      "text/plain": [
       "x**2*y + 3*x*y**2 + y**3"
      ]
     },
     "execution_count": 2,
     "metadata": {},
     "output_type": "execute_result"
    }
   ],
   "source": [
    "# definisikan variabel\n",
    "x = sy.symbols(\"x\")\n",
    "y = sy.symbols(\"y\")\n",
    "\n",
    "# definisikan fungsi\n",
    "func = x**2*y + 3*x*y**2 +y**3\n",
    "func\n",
    "# karena terdapat 2 variabel dalam 1 fungsi sehingga harus diselesaikan secara parsial"
   ]
  },
  {
   "cell_type": "code",
   "execution_count": null,
   "metadata": {},
   "outputs": [
    {
     "data": {
      "text/latex": [
       "$\\displaystyle 2 x y + 3 y^{2}$"
      ],
      "text/plain": [
       "2*x*y + 3*y**2"
      ]
     },
     "execution_count": 3,
     "metadata": {},
     "output_type": "execute_result"
    }
   ],
   "source": [
    "# turunan dari x\n",
    "d_dx = sy.diff(func,x)\n",
    "d_dx"
   ]
  },
  {
   "cell_type": "code",
   "execution_count": null,
   "metadata": {},
   "outputs": [
    {
     "data": {
      "text/latex": [
       "$\\displaystyle x^{2} + 6 x y + 3 y^{2}$"
      ],
      "text/plain": [
       "x**2 + 6*x*y + 3*y**2"
      ]
     },
     "execution_count": 4,
     "metadata": {},
     "output_type": "execute_result"
    }
   ],
   "source": [
    "# turunan dari y\n",
    "d_dy = sy.diff(func,y)\n",
    "d_dy"
   ]
  },
  {
   "cell_type": "code",
   "execution_count": 5,
   "metadata": {},
   "outputs": [
    {
     "data": {
      "text/latex": [
       "$\\displaystyle 5 x^{3} y^{2} - 3 x^{2} y + 7 y^{3}$"
      ],
      "text/plain": [
       "5*x**3*y**2 - 3*x**2*y + 7*y**3"
      ]
     },
     "execution_count": 5,
     "metadata": {},
     "output_type": "execute_result"
    }
   ],
   "source": [
    "# latihan\n",
    "func = 5*x**3*y**2 - 3*x**2*y + 7*y**3\n",
    "func\n"
   ]
  },
  {
   "cell_type": "code",
   "execution_count": 6,
   "metadata": {},
   "outputs": [
    {
     "data": {
      "text/latex": [
       "$\\displaystyle 15 x^{2} y^{2} - 6 x y$"
      ],
      "text/plain": [
       "15*x**2*y**2 - 6*x*y"
      ]
     },
     "execution_count": 6,
     "metadata": {},
     "output_type": "execute_result"
    }
   ],
   "source": [
    "d_dx = sy.diff(func,x)\n",
    "d_dx"
   ]
  },
  {
   "cell_type": "code",
   "execution_count": 7,
   "metadata": {},
   "outputs": [
    {
     "data": {
      "text/latex": [
       "$\\displaystyle 10 x^{3} y - 3 x^{2} + 21 y^{2}$"
      ],
      "text/plain": [
       "10*x**3*y - 3*x**2 + 21*y**2"
      ]
     },
     "execution_count": 7,
     "metadata": {},
     "output_type": "execute_result"
    }
   ],
   "source": [
    "d_dy = sy.diff(func,y)\n",
    "d_dy"
   ]
  }
 ],
 "metadata": {
  "kernelspec": {
   "display_name": "Python 3",
   "language": "python",
   "name": "python3"
  },
  "language_info": {
   "codemirror_mode": {
    "name": "ipython",
    "version": 3
   },
   "file_extension": ".py",
   "mimetype": "text/x-python",
   "name": "python",
   "nbconvert_exporter": "python",
   "pygments_lexer": "ipython3",
   "version": "3.12.3"
  }
 },
 "nbformat": 4,
 "nbformat_minor": 2
}
