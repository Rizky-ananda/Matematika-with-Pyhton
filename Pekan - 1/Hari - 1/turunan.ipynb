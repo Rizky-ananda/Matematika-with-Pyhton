{
 "cells": [
  {
   "cell_type": "code",
   "execution_count": 2,
   "metadata": {},
   "outputs": [],
   "source": [
    "# Library yang digunakan \n",
    "import sympy as sy # untuk penyelesaian secara simbolik\n",
    "import numpy as np # untuk penyelesaian secara numerik\n",
    "import matplotlib.pyplot as plt # untuk visualiasi data\n",
    "from scipy.misc import derivative  # Untuk turunan numerik\n",
    "from scipy.integrate import odeint  # Untuk solusi persamaan diferensial\n",
    "\n"
   ]
  },
  {
   "cell_type": "code",
   "execution_count": 3,
   "metadata": {},
   "outputs": [
    {
     "data": {
      "text/latex": [
       "$\\displaystyle x^{3} + 3 x^{2} + 5 x + 7$"
      ],
      "text/plain": [
       "x**3 + 3*x**2 + 5*x + 7"
      ]
     },
     "execution_count": 3,
     "metadata": {},
     "output_type": "execute_result"
    }
   ],
   "source": [
    "# definisikan variabel\n",
    "x = sy.symbols(\"x\")\n",
    "\n",
    "# definisikan fungsi\n",
    "func = x**3 + 3*x**2 + 5*x + 7\n",
    "func"
   ]
  },
  {
   "cell_type": "code",
   "execution_count": 4,
   "metadata": {},
   "outputs": [
    {
     "data": {
      "text/latex": [
       "$\\displaystyle 3 x^{2} + 6 x + 5$"
      ],
      "text/plain": [
       "3*x**2 + 6*x + 5"
      ]
     },
     "execution_count": 4,
     "metadata": {},
     "output_type": "execute_result"
    }
   ],
   "source": [
    "# hitung\n",
    "d_func = sy.diff(func,x)\n",
    "d_func"
   ]
  },
  {
   "cell_type": "code",
   "execution_count": 5,
   "metadata": {},
   "outputs": [
    {
     "data": {
      "text/latex": [
       "$\\displaystyle 6 \\left(x + 1\\right)$"
      ],
      "text/plain": [
       "6*(x + 1)"
      ]
     },
     "execution_count": 5,
     "metadata": {},
     "output_type": "execute_result"
    }
   ],
   "source": [
    "d_func2 = sy.diff(func,x,2)\n",
    "d_func2"
   ]
  },
  {
   "cell_type": "code",
   "execution_count": 6,
   "metadata": {},
   "outputs": [
    {
     "data": {
      "text/latex": [
       "$\\displaystyle 6$"
      ],
      "text/plain": [
       "6"
      ]
     },
     "execution_count": 6,
     "metadata": {},
     "output_type": "execute_result"
    }
   ],
   "source": [
    "d_func3 = sy.diff(func,x,3)\n",
    "d_func3"
   ]
  },
  {
   "cell_type": "code",
   "execution_count": 7,
   "metadata": {},
   "outputs": [
    {
     "data": {
      "text/latex": [
       "$\\displaystyle 4 x^{4} - 2 x^{3} + 7 x^{2} - 5 x + 8$"
      ],
      "text/plain": [
       "4*x**4 - 2*x**3 + 7*x**2 - 5*x + 8"
      ]
     },
     "execution_count": 7,
     "metadata": {},
     "output_type": "execute_result"
    }
   ],
   "source": [
    "# latihan\n",
    "func = 4*x**4 - 2*x**3 + 7*x**2 - 5*x + 8\n",
    "func"
   ]
  },
  {
   "cell_type": "code",
   "execution_count": 14,
   "metadata": {},
   "outputs": [
    {
     "data": {
      "text/latex": [
       "$\\displaystyle 16 x^{3} - 6 x^{2} + 14 x - 5$"
      ],
      "text/plain": [
       "16*x**3 - 6*x**2 + 14*x - 5"
      ]
     },
     "execution_count": 14,
     "metadata": {},
     "output_type": "execute_result"
    }
   ],
   "source": [
    "d_func = sy.diff(func,x)\n",
    "d_func"
   ]
  },
  {
   "cell_type": "code",
   "execution_count": 15,
   "metadata": {},
   "outputs": [
    {
     "data": {
      "text/latex": [
       "$\\displaystyle 2 \\left(24 x^{2} - 6 x + 7\\right)$"
      ],
      "text/plain": [
       "2*(24*x**2 - 6*x + 7)"
      ]
     },
     "execution_count": 15,
     "metadata": {},
     "output_type": "execute_result"
    }
   ],
   "source": [
    "d_func2 = sy.diff(func,x,2)\n",
    "d_func2"
   ]
  },
  {
   "cell_type": "code",
   "execution_count": 16,
   "metadata": {},
   "outputs": [
    {
     "data": {
      "text/latex": [
       "$\\displaystyle 12 \\left(8 x - 1\\right)$"
      ],
      "text/plain": [
       "12*(8*x - 1)"
      ]
     },
     "execution_count": 16,
     "metadata": {},
     "output_type": "execute_result"
    }
   ],
   "source": [
    "d_func3 = sy.diff(func,x,3)\n",
    "d_func3"
   ]
  }
 ],
 "metadata": {
  "kernelspec": {
   "display_name": "Python 3",
   "language": "python",
   "name": "python3"
  },
  "language_info": {
   "codemirror_mode": {
    "name": "ipython",
    "version": 3
   },
   "file_extension": ".py",
   "mimetype": "text/x-python",
   "name": "python",
   "nbconvert_exporter": "python",
   "pygments_lexer": "ipython3",
   "version": "3.12.3"
  }
 },
 "nbformat": 4,
 "nbformat_minor": 2
}
