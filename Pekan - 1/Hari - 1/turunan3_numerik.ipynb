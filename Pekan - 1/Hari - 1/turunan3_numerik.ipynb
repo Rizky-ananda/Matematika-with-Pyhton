{
 "cells": [
  {
   "cell_type": "code",
   "execution_count": 1,
   "metadata": {},
   "outputs": [],
   "source": [
    "# Library yang digunakan \n",
    "import sympy as sy # untuk penyelesaian secara simbolik\n",
    "import numpy as np # untuk penyelesaian secara numerik\n",
    "import matplotlib.pyplot as plt # untuk visualiasi data\n",
    "from scipy.misc import derivative  # Untuk turunan numerik\n",
    "from scipy.integrate import odeint  # Untuk solusi persamaan diferensial"
   ]
  },
  {
   "cell_type": "code",
   "execution_count": 22,
   "metadata": {},
   "outputs": [],
   "source": [
    "# definisikan fungsi dalam bentuk numerik\n",
    "def f(x):\n",
    "    return np.sin(x)"
   ]
  },
  {
   "cell_type": "code",
   "execution_count": 23,
   "metadata": {},
   "outputs": [
    {
     "name": "stderr",
     "output_type": "stream",
     "text": [
      "C:\\Users\\USER\\AppData\\Local\\Temp\\ipykernel_15076\\1785861001.py:2: DeprecationWarning: scipy.misc.derivative is deprecated in SciPy v1.10.0; and will be completely removed in SciPy v1.12.0. You may consider using findiff: https://github.com/maroba/findiff or numdifftools: https://github.com/pbrod/numdifftools\n",
      "  df_num = derivative(f,x0,dx=1e-5)\n"
     ]
    },
    {
     "data": {
      "text/plain": [
       "0.7071067811725839"
      ]
     },
     "execution_count": 23,
     "metadata": {},
     "output_type": "execute_result"
    }
   ],
   "source": [
    "x0 = np.pi/4\n",
    "df_num = derivative(f,x0,dx=1e-5)\n",
    "df_num"
   ]
  },
  {
   "cell_type": "code",
   "execution_count": 24,
   "metadata": {},
   "outputs": [],
   "source": [
    "# latihan\n",
    "def f(x):\n",
    "    return np.exp(x) + x**2 - 4\n"
   ]
  },
  {
   "cell_type": "code",
   "execution_count": 25,
   "metadata": {},
   "outputs": [
    {
     "name": "stderr",
     "output_type": "stream",
     "text": [
      "C:\\Users\\USER\\AppData\\Local\\Temp\\ipykernel_15076\\3290899481.py:2: DeprecationWarning: scipy.misc.derivative is deprecated in SciPy v1.10.0; and will be completely removed in SciPy v1.12.0. You may consider using findiff: https://github.com/maroba/findiff or numdifftools: https://github.com/pbrod/numdifftools\n",
      "  df_num = derivative(f,x0,dx=1e-5)\n"
     ]
    },
    {
     "data": {
      "text/plain": [
       "11.389056099098125"
      ]
     },
     "execution_count": 25,
     "metadata": {},
     "output_type": "execute_result"
    }
   ],
   "source": [
    "x0 = 2\n",
    "df_num = derivative(f,x0,dx=1e-5)\n",
    "df_num"
   ]
  }
 ],
 "metadata": {
  "kernelspec": {
   "display_name": "Python 3",
   "language": "python",
   "name": "python3"
  },
  "language_info": {
   "codemirror_mode": {
    "name": "ipython",
    "version": 3
   },
   "file_extension": ".py",
   "mimetype": "text/x-python",
   "name": "python",
   "nbconvert_exporter": "python",
   "pygments_lexer": "ipython3",
   "version": "3.12.3"
  }
 },
 "nbformat": 4,
 "nbformat_minor": 2
}
