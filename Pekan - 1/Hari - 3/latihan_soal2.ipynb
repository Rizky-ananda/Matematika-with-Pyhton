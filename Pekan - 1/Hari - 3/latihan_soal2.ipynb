{
 "cells": [
  {
   "cell_type": "code",
   "execution_count": 17,
   "id": "662adc41",
   "metadata": {},
   "outputs": [],
   "source": [
    "# Masukan library yang digunakan\n",
    "import sympy as sy\n",
    "import numpy as np\n",
    "import matplotlib.pyplot as plt"
   ]
  },
  {
   "cell_type": "code",
   "execution_count": null,
   "id": "1209391e",
   "metadata": {},
   "outputs": [],
   "source": [
    "# diberikan sebuah persamaan, 3^2sin(y) + y^3cos(x)\n",
    "# dalam persamaan tersebut terdapat 2 variabel x dan y\n",
    "# oleh karena itu harus turunkan secara parsial\n",
    "# tentukan turunan ke 1 dari variabel x dan y\n",
    "# tentukan value dari masing masing turunan jika x=1,y=2\n",
    "# selesaikan simbolik dan numerik"
   ]
  },
  {
   "cell_type": "code",
   "execution_count": 18,
   "id": "6e81ec06",
   "metadata": {},
   "outputs": [
    {
     "data": {
      "text/latex": [
       "$\\displaystyle x^{2} \\sin{\\left(y \\right)} + y^{3} \\cos{\\left(x \\right)}$"
      ],
      "text/plain": [
       "x**2*sin(y) + y**3*cos(x)"
      ]
     },
     "execution_count": 18,
     "metadata": {},
     "output_type": "execute_result"
    }
   ],
   "source": [
    "# definisikan variabel yang digunakan\n",
    "x,y = sy.symbols([\"x\",\"y\"])\n",
    "\n",
    "# persamaan yang digunakan\n",
    "func = x**2*sy.sin(y) + y**3*sy.cos(x)\n",
    "func"
   ]
  },
  {
   "cell_type": "code",
   "execution_count": 19,
   "id": "479695c1",
   "metadata": {},
   "outputs": [
    {
     "data": {
      "text/latex": [
       "$\\displaystyle 2 x \\sin{\\left(y \\right)} - y^{3} \\sin{\\left(x \\right)}$"
      ],
      "text/plain": [
       "2*x*sin(y) - y**3*sin(x)"
      ]
     },
     "execution_count": 19,
     "metadata": {},
     "output_type": "execute_result"
    }
   ],
   "source": [
    "# turunan pertama x\n",
    "dx = sy.diff(func,x)\n",
    "dx"
   ]
  },
  {
   "cell_type": "code",
   "execution_count": 20,
   "id": "27454d4b",
   "metadata": {},
   "outputs": [
    {
     "data": {
      "text/latex": [
       "$\\displaystyle x^{2} \\cos{\\left(y \\right)} + 3 y^{2} \\cos{\\left(x \\right)}$"
      ],
      "text/plain": [
       "x**2*cos(y) + 3*y**2*cos(x)"
      ]
     },
     "execution_count": 20,
     "metadata": {},
     "output_type": "execute_result"
    }
   ],
   "source": [
    "# turunan pertama y\n",
    "dy = sy.diff(func,y)\n",
    "dy"
   ]
  },
  {
   "cell_type": "code",
   "execution_count": 21,
   "id": "684cb297",
   "metadata": {},
   "outputs": [],
   "source": [
    "# subtitusi masing masing variabel jika x=1,y=2\n",
    "df_dx = dx.subs({x:1,y:2})\n",
    "df_dy = dy.subs({x:1,y:2})"
   ]
  },
  {
   "cell_type": "code",
   "execution_count": 22,
   "id": "3db708b0",
   "metadata": {},
   "outputs": [
    {
     "data": {
      "text/latex": [
       "$\\displaystyle - 8 \\sin{\\left(1 \\right)} + 2 \\sin{\\left(2 \\right)}$"
      ],
      "text/plain": [
       "-8*sin(1) + 2*sin(2)"
      ]
     },
     "execution_count": 22,
     "metadata": {},
     "output_type": "execute_result"
    }
   ],
   "source": [
    "df_dx # hasil subtitusi turunan x"
   ]
  },
  {
   "cell_type": "code",
   "execution_count": 23,
   "id": "a1c1e433",
   "metadata": {},
   "outputs": [
    {
     "data": {
      "text/latex": [
       "$\\displaystyle \\cos{\\left(2 \\right)} + 12 \\cos{\\left(1 \\right)}$"
      ],
      "text/plain": [
       "cos(2) + 12*cos(1)"
      ]
     },
     "execution_count": 23,
     "metadata": {},
     "output_type": "execute_result"
    }
   ],
   "source": [
    "df_dy #hasil subtitusi turunan y"
   ]
  },
  {
   "cell_type": "code",
   "execution_count": 24,
   "id": "98820b10",
   "metadata": {},
   "outputs": [
    {
     "name": "stdout",
     "output_type": "stream",
     "text": [
      "hasil subtitusi turunan x = -8*sin(1) + 2*sin(2)\n",
      "hasil subtitusi turunan y = cos(2) + 12*cos(1)\n"
     ]
    }
   ],
   "source": [
    "# jika diturunkan dengan print maka hasilnya kurang bagus dan sulit dibaca, sehingga harus diprint seperti yang diatas\n",
    "# jika diprint dengan cara biasanya akan seperti :\n",
    "print(f\"hasil subtitusi turunan x = {df_dx}\")\n",
    "print(f\"hasil subtitusi turunan y = {df_dy}\")"
   ]
  },
  {
   "cell_type": "code",
   "execution_count": 25,
   "id": "5acb46ee",
   "metadata": {},
   "outputs": [],
   "source": [
    "# hasilnya akan ditampilkan akan seperti itu\n",
    "# sehingga harus diselesaikan secara numerik agar hasilnya dapat berupa angka"
   ]
  },
  {
   "cell_type": "code",
   "execution_count": 26,
   "id": "abe47007",
   "metadata": {},
   "outputs": [],
   "source": [
    "def f(x,y):\n",
    "    return x**2*sy.sin(y) + y**3*sy.cos(x)\n",
    "\n",
    "x,y = 1.0,2.0\n",
    "dx = 1e-5\n",
    "dy = 1e-5\n",
    "\n",
    "df_dx = (f(x + dx, y) - f(x, y)) / dx\n",
    "df_dy = (f(x, y + dy) - f(x, y)) / dy\n"
   ]
  },
  {
   "cell_type": "code",
   "execution_count": 27,
   "id": "7a807628",
   "metadata": {},
   "outputs": [
    {
     "name": "stdout",
     "output_type": "stream",
     "text": [
      "value dx adalah = -4.9132\n",
      "value dy adalah = 6.0675\n"
     ]
    }
   ],
   "source": [
    "print(f\"value dx adalah = {df_dx:.4f}\")\n",
    "print(f\"value dy adalah = {df_dy:.4f}\")"
   ]
  }
 ],
 "metadata": {
  "kernelspec": {
   "display_name": "Python 3",
   "language": "python",
   "name": "python3"
  },
  "language_info": {
   "codemirror_mode": {
    "name": "ipython",
    "version": 3
   },
   "file_extension": ".py",
   "mimetype": "text/x-python",
   "name": "python",
   "nbconvert_exporter": "python",
   "pygments_lexer": "ipython3",
   "version": "3.12.3"
  }
 },
 "nbformat": 4,
 "nbformat_minor": 5
}
