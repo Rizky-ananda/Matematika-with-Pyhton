{
 "cells": [
  {
   "cell_type": "code",
   "execution_count": null,
   "id": "52c0e812",
   "metadata": {},
   "outputs": [],
   "source": [
    "# SOAL APLIKATIF - MENGUKUR ENERGI GERAK MESIN BERPUTAR\n",
    "# sebuah mesin memilik poros yang berputar dan kecepatan sudutnya berubah\n",
    "# secara periodik mengikuti fungsi, w(t) = 5 sin(t) (rad/s)\n",
    "# mesin bekerja dari waktu t = 0 hingga t = phi/2 detik\n",
    "# momen inersia adalah I = 2\n",
    "# persamaan energi kinetik rotasi adalah E(t) = 1/2 Iw(t)^2\n",
    "# hitung energi kinetik total rotasi\n",
    "# kerjakaan secara simbolik dan numerik"
   ]
  },
  {
   "cell_type": "code",
   "execution_count": 2,
   "id": "b5031416",
   "metadata": {},
   "outputs": [],
   "source": [
    "# masukan library yang digunakan\n",
    "import sympy as sy\n",
    "import numpy as np\n",
    "from scipy.integrate import quad"
   ]
  },
  {
   "cell_type": "code",
   "execution_count": 3,
   "id": "e45e76ae",
   "metadata": {},
   "outputs": [
    {
     "data": {
      "text/latex": [
       "$\\displaystyle 5 \\sin{\\left(t \\right)}$"
      ],
      "text/plain": [
       "5*sin(t)"
      ]
     },
     "execution_count": 3,
     "metadata": {},
     "output_type": "execute_result"
    }
   ],
   "source": [
    "# definisikan variabel digunakan\n",
    "t = sy.symbols(\"t\")\n",
    "\n",
    "# fungsi putaran\n",
    "f = 5 * sy.sin(t)\n",
    "f"
   ]
  },
  {
   "cell_type": "code",
   "execution_count": 4,
   "id": "8dcac9c8",
   "metadata": {},
   "outputs": [
    {
     "data": {
      "text/latex": [
       "$\\displaystyle \\frac{25 \\pi}{4}$"
      ],
      "text/plain": [
       "25*pi/4"
      ]
     },
     "execution_count": 4,
     "metadata": {},
     "output_type": "execute_result"
    }
   ],
   "source": [
    "energi_simbolik = sy.integrate(f**2,(t,0,sy.pi/2))\n",
    "energi_simbolik # hasilnya masih bentuk umum dan sulit dipahami"
   ]
  },
  {
   "cell_type": "code",
   "execution_count": 5,
   "id": "80781c2e",
   "metadata": {},
   "outputs": [
    {
     "data": {
      "text/latex": [
       "$\\displaystyle 19.6349540849362$"
      ],
      "text/plain": [
       "19.6349540849362"
      ]
     },
     "execution_count": 5,
     "metadata": {},
     "output_type": "execute_result"
    }
   ],
   "source": [
    "energi_simbolik.evalf() # hasilnya dalam bentuk decimal dan mudah untuk dibaca"
   ]
  },
  {
   "cell_type": "code",
   "execution_count": 6,
   "id": "f71b9475",
   "metadata": {},
   "outputs": [],
   "source": [
    "def f(t):\n",
    "    return (5 * np.sin(t))**2"
   ]
  },
  {
   "cell_type": "code",
   "execution_count": 7,
   "id": "10da8734",
   "metadata": {},
   "outputs": [
    {
     "data": {
      "text/plain": [
       "(19.63495408493621, 2.1799178112553954e-13)"
      ]
     },
     "execution_count": 7,
     "metadata": {},
     "output_type": "execute_result"
    }
   ],
   "source": [
    "energi_numerik = quad(f,0,np.pi/2)\n",
    "energi_numerik"
   ]
  },
  {
   "cell_type": "code",
   "execution_count": 8,
   "id": "4d95b2f1",
   "metadata": {},
   "outputs": [],
   "source": [
    "# APLIKASI: PENERAPAN SINAR MATAHARI DI LAHAN PERTANIAN\n",
    "# Sebuah lshsn pertanian menerima intensitas sinar matahari yang bervariasi sepanjang hari\n",
    "# fungsi, I(t) = 600 x cos(phi/2)\n",
    "# dimana: I(t) = intensitas cahaya dalam watt/m^2\n",
    "        # t adalah waktu t = 0, t = 6\n",
    "# berapa total energi matahari yang diterima tiap meter dari jam 6 - 12  "
   ]
  },
  {
   "cell_type": "code",
   "execution_count": 16,
   "id": "b28cd019",
   "metadata": {},
   "outputs": [
    {
     "data": {
      "text/latex": [
       "$\\displaystyle 600 \\cos{\\left(\\frac{\\pi t}{12} \\right)}$"
      ],
      "text/plain": [
       "600*cos(pi*t/12)"
      ]
     },
     "execution_count": 16,
     "metadata": {},
     "output_type": "execute_result"
    }
   ],
   "source": [
    "fI = 600 * sy.cos(sy.pi*t/12)\n",
    "fI"
   ]
  },
  {
   "cell_type": "code",
   "execution_count": 18,
   "id": "96ae9c7f",
   "metadata": {},
   "outputs": [
    {
     "data": {
      "text/latex": [
       "$\\displaystyle \\frac{7200}{\\pi}$"
      ],
      "text/plain": [
       "7200/pi"
      ]
     },
     "execution_count": 18,
     "metadata": {},
     "output_type": "execute_result"
    }
   ],
   "source": [
    "energi = sy.integrate(fI,(t,0,6))\n",
    "energi"
   ]
  },
  {
   "cell_type": "code",
   "execution_count": 19,
   "id": "75d0090c",
   "metadata": {},
   "outputs": [
    {
     "data": {
      "text/latex": [
       "$\\displaystyle 2291.83118052329$"
      ],
      "text/plain": [
       "2291.83118052329"
      ]
     },
     "execution_count": 19,
     "metadata": {},
     "output_type": "execute_result"
    }
   ],
   "source": [
    "energi.evalf()"
   ]
  },
  {
   "cell_type": "code",
   "execution_count": 20,
   "id": "e86683e9",
   "metadata": {},
   "outputs": [
    {
     "data": {
      "text/plain": [
       "(2291.8311805232934, 2.544443745170814e-11)"
      ]
     },
     "execution_count": 20,
     "metadata": {},
     "output_type": "execute_result"
    }
   ],
   "source": [
    "def f(t):\n",
    "    return 600 * np.cos(np.pi*t/12)\n",
    "\n",
    "energi = quad(f,0,6)\n",
    "energi"
   ]
  }
 ],
 "metadata": {
  "kernelspec": {
   "display_name": "Python 3",
   "language": "python",
   "name": "python3"
  },
  "language_info": {
   "codemirror_mode": {
    "name": "ipython",
    "version": 3
   },
   "file_extension": ".py",
   "mimetype": "text/x-python",
   "name": "python",
   "nbconvert_exporter": "python",
   "pygments_lexer": "ipython3",
   "version": "3.12.3"
  }
 },
 "nbformat": 4,
 "nbformat_minor": 5
}
