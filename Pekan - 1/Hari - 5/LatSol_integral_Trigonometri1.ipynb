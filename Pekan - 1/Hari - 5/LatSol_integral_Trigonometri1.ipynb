{
 "cells": [
  {
   "cell_type": "code",
   "execution_count": null,
   "id": "0621dcca",
   "metadata": {},
   "outputs": [],
   "source": [
    "# APLIKASI: POMPA AIR OTOMATIS"
   ]
  },
  {
   "cell_type": "code",
   "execution_count": 2,
   "id": "bcceb525",
   "metadata": {},
   "outputs": [
    {
     "data": {
      "text/latex": [
       "$\\displaystyle 20.0$"
      ],
      "text/plain": [
       "20.0000000000000"
      ]
     },
     "execution_count": 2,
     "metadata": {},
     "output_type": "execute_result"
    }
   ],
   "source": [
    "import sympy as sp\n",
    "\n",
    "# Definisi variabel simbolik\n",
    "t = sp.symbols('t')\n",
    "Q = 4 * sp.cos(sp.pi * t / 10)**2  # fungsi debit air\n",
    "\n",
    "# Integral simbolik dari 0 sampai 10\n",
    "volume_simbolik = sp.integrate(Q, (t, 0, 10))\n",
    "volume_simbolik.evalf()  # hasil dalam bentuk desimal\n"
   ]
  },
  {
   "cell_type": "code",
   "execution_count": 1,
   "id": "800e48e9",
   "metadata": {},
   "outputs": [
    {
     "name": "stdout",
     "output_type": "stream",
     "text": [
      "Volume total air: 20.0000 liter\n"
     ]
    }
   ],
   "source": [
    "import numpy as np\n",
    "from scipy.integrate import quad\n",
    "\n",
    "# Fungsi debit air dalam bentuk numerik\n",
    "def Q(t):\n",
    "    return 4 * np.cos(np.pi * t / 10)**2\n",
    "\n",
    "# Integral numerik dari 0 sampai 10\n",
    "volume_numerik, _ = quad(Q, 0, 10)\n",
    "print(f\"Volume total air: {volume_numerik:.4f} liter\")\n"
   ]
  }
 ],
 "metadata": {
  "kernelspec": {
   "display_name": "Python 3",
   "language": "python",
   "name": "python3"
  },
  "language_info": {
   "codemirror_mode": {
    "name": "ipython",
    "version": 3
   },
   "file_extension": ".py",
   "mimetype": "text/x-python",
   "name": "python",
   "nbconvert_exporter": "python",
   "pygments_lexer": "ipython3",
   "version": "3.12.3"
  }
 },
 "nbformat": 4,
 "nbformat_minor": 5
}
