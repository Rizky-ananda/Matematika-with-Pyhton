{
 "cells": [
  {
   "cell_type": "code",
   "execution_count": 3,
   "id": "61059cf8",
   "metadata": {},
   "outputs": [],
   "source": [
    "import numpy as np"
   ]
  },
  {
   "cell_type": "markdown",
   "id": "25515d2c",
   "metadata": {},
   "source": [
    " # 1. MENENTUKAN TITIK X DAN Y\n",
    "\n",
    " sebagai contoh: terdapat tiga titik dengan koordinat (1,2) (2,3) (3,5)"
   ]
  },
  {
   "cell_type": "code",
   "execution_count": 4,
   "id": "2feb44ed",
   "metadata": {},
   "outputs": [],
   "source": [
    "# membuat array untuk sumbu x dan y\n",
    "x = np.array([1,2,3])\n",
    "y = np.array([2,3,5])\n",
    "\n",
    "n = len(x)"
   ]
  },
  {
   "cell_type": "markdown",
   "id": "0e69365b",
   "metadata": {},
   "source": [
    "# 2. Menghitung Variabel yang Dibutuhkan\n",
    "Hitung terlebih dahulu\n",
    "$$\n",
    "\\sum x_i, \\quad \\sum y_i, \\quad \\sum x_i y_i, \\quad \\sum x_i^2\n",
    "$$\n",
    "\n",
    "dimana:\n",
    "\n",
    "$\\sum x_i$ : hitung titik x\n",
    "\n",
    "$\\sum y_i$ : hitung titik y\n",
    "\n",
    "$\\sum x_i y_i$ : kalikan masing masing titik dan dijumlahkan\n",
    "\n",
    "$\\sum x_i^2$ : masing masing titik x di kuadratkan, kemudian dijumlahkan\n",
    "\n",
    "\n"
   ]
  },
  {
   "cell_type": "code",
   "execution_count": 11,
   "id": "cac6eb1c",
   "metadata": {},
   "outputs": [],
   "source": [
    "# hitung variabel yang diperlukan\n",
    "sum_x = np.sum(x)\n",
    "sum_y = np.sum(y)\n",
    "sum_xy = np.sum(x*y)\n",
    "sum_x2 = np.sum(x**2)\n"
   ]
  },
  {
   "cell_type": "code",
   "execution_count": 12,
   "id": "33eb8a30",
   "metadata": {},
   "outputs": [
    {
     "data": {
      "text/plain": [
       "(6, 10, 23, 14, 3)"
      ]
     },
     "execution_count": 12,
     "metadata": {},
     "output_type": "execute_result"
    }
   ],
   "source": [
    "# cetak nilai\n",
    "sum_x, sum_y, sum_xy, sum_x2, n"
   ]
  },
  {
   "cell_type": "markdown",
   "id": "feeb39f8",
   "metadata": {},
   "source": [
    "# 3. Hitung Variabel A dan B\n",
    "persamana untuk variabel a\n",
    "\n",
    "$$\n",
    "\\frac{n\\sum xy - (\\sum x)(\\sum y)}{n\\sum x^2 - (\\sum x)^2}\n",
    "$$\n",
    "\n",
    "persamaan untuk Variabel b\n",
    "\n",
    "$$\n",
    "\\frac{\\sum y - a \\sum x}{n}\n",
    "$$\n"
   ]
  },
  {
   "cell_type": "code",
   "execution_count": 13,
   "id": "c4e4655d",
   "metadata": {},
   "outputs": [],
   "source": [
    "# persamaan slope (a) dan intercept (b)\n",
    "a = (n*sum_xy - sum_x*sum_y) / (n*sum_x2 - sum_x**2)\n",
    "b = (sum_y - a*sum_x) / n"
   ]
  },
  {
   "cell_type": "code",
   "execution_count": 14,
   "id": "f04c6d19",
   "metadata": {},
   "outputs": [
    {
     "data": {
      "text/plain": [
       "(1.5, 0.3333333333333333)"
      ]
     },
     "execution_count": 14,
     "metadata": {},
     "output_type": "execute_result"
    }
   ],
   "source": [
    "a,b"
   ]
  },
  {
   "cell_type": "code",
   "execution_count": null,
   "id": "cc2ceb4d",
   "metadata": {},
   "outputs": [
    {
     "name": "stdout",
     "output_type": "stream",
     "text": [
      "Persamaan regresi linear adalah: y = 1.50x + 0.33\n"
     ]
    }
   ],
   "source": [
    "# cetak hasil\n",
    "print(f\"Persamaan regresi linear adalah: y = {a:.2f}x + {b:.2f}\")"
   ]
  }
 ],
 "metadata": {
  "kernelspec": {
   "display_name": "Python 3",
   "language": "python",
   "name": "python3"
  },
  "language_info": {
   "codemirror_mode": {
    "name": "ipython",
    "version": 3
   },
   "file_extension": ".py",
   "mimetype": "text/x-python",
   "name": "python",
   "nbconvert_exporter": "python",
   "pygments_lexer": "ipython3",
   "version": "3.12.3"
  }
 },
 "nbformat": 4,
 "nbformat_minor": 5
}
